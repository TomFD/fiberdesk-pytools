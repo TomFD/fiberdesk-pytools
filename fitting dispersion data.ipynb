{
 "cells": [
  {
   "cell_type": "code",
   "execution_count": null,
   "metadata": {},
   "outputs": [],
   "source": []
  },
  {
   "cell_type": "markdown",
   "metadata": {},
   "source": [
    "# Example: Fit an experimental (or theoretical) dispersion curve to the propagation constants Taylor Series expansion to implement in fiberdesk"
   ]
  },
  {
   "cell_type": "markdown",
   "metadata": {},
   "source": [
    "import pandas as pd"
   ]
  },
  {
   "cell_type": "code",
   "execution_count": 48,
   "metadata": {},
   "outputs": [],
   "source": [
    "import numpy as np\n",
    "import pandas as pd\n",
    "\n",
    "import matplotlib\n",
    "import matplotlib.pyplot as plt"
   ]
  },
  {
   "cell_type": "markdown",
   "metadata": {},
   "source": []
  },
  {
   "cell_type": "code",
   "execution_count": 49,
   "metadata": {},
   "outputs": [
    {
     "name": "stdout",
     "output_type": "stream",
     "text": [
      "UTF-8\n",
      "    lambda in nm  D in ps/nm/km\n",
      "0        666.967      -228.2150\n",
      "1        675.608      -217.8070\n",
      "2        684.248      -207.4000\n",
      "3        691.809      -198.4800\n",
      "4        699.370      -190.0550\n",
      "..           ...            ...\n",
      "64      1616.380        66.3648\n",
      "65      1636.900        67.3478\n",
      "66      1657.430        68.6000\n",
      "67      1673.630        69.3157\n",
      "68      1696.310        70.2978\n",
      "\n",
      "[69 rows x 2 columns]\n"
     ]
    }
   ],
   "source": [
    "name = 'dispersion.csv'\n",
    "\n",
    "_encoding = \"utf-8\"\n",
    "with open(name) as _file:\n",
    "    _encoding = _file.encoding\n",
    "    print(_encoding)\n",
    "\n",
    "df = pd.read_csv(name, encoding = _encoding, delimiter=\";\", decimal=\",\")\n",
    "print (df)"
   ]
  },
  {
   "cell_type": "markdown",
   "metadata": {},
   "source": [
    "Plot the experimental data."
   ]
  },
  {
   "cell_type": "code",
   "execution_count": 50,
   "metadata": {},
   "outputs": [
    {
     "name": "stdout",
     "output_type": "stream",
     "text": [
      "\n"
     ]
    },
    {
     "data": {
      "text/plain": [
       "Text(0, 0.5, 'D / ps/km/nm')"
      ]
     },
     "execution_count": 50,
     "metadata": {},
     "output_type": "execute_result"
    },
    {
     "data": {
      "image/png": "[encoded data removed]",
      "text/plain": [
       "<Figure size 640x480 with 1 Axes>"
      ]
     },
     "metadata": {},
     "output_type": "display_data"
    }
   ],
   "source": [
    "disp = df.to_numpy()\n",
    "\n",
    "wavelength_values = disp[:,0]\n",
    "dispersion_values = disp[:,1]\n",
    "\n",
    "print()\n",
    "fig0 = plt.figure()\n",
    "ax0 = fig0.add_subplot(111)\n",
    "ax0.plot(wavelength_values,dispersion_values,'o',color='black',alpha=0.5)\n",
    "ax0.set_xlabel('wavelength / nm')\n",
    "ax0.set_ylabel('D / ps/km/nm')"
   ]
  },
  {
   "cell_type": "markdown",
   "metadata": {},
   "source": []
  },
  {
   "cell_type": "code",
   "execution_count": 51,
   "metadata": {},
   "outputs": [],
   "source": [
    "import math as m\n",
    "from scipy.optimize import curve_fit"
   ]
  },
  {
   "cell_type": "code",
   "execution_count": 52,
   "metadata": {},
   "outputs": [],
   "source": [
    "fit_wavelength = 1064.0*1e-9\n",
    "c = 299792458.0 #m/s\n",
    "omega0 = c/fit_wavelength*2*m.pi\n",
    "\n",
    "# Define the Taylor fit function\n",
    "def Taylor(omega,omega0,beta2s):\n",
    "    y = 0.0\n",
    "    n = 0\n",
    "    for b in beta2s:        \n",
    "        y += 1.0/m.factorial(n)*b*(omega-omega0)^(n)\n",
    "        n += 1\n",
    "    return y"
   ]
  },
  {
   "cell_type": "code",
   "execution_count": 53,
   "metadata": {},
   "outputs": [
    {
     "ename": "TypeError",
     "evalue": "'numpy.float64' object is not iterable",
     "output_type": "error",
     "traceback": [
      "\u001b[1;31m---------------------------------------------------------------------------\u001b[0m",
      "\u001b[1;31mTypeError\u001b[0m                                 Traceback (most recent call last)",
      "Cell \u001b[1;32mIn [53], line 4\u001b[0m\n\u001b[0;32m      1\u001b[0m omega_axis \u001b[39m=\u001b[39m \u001b[39m3e9\u001b[39m \u001b[39m/\u001b[39m wavelength_values \u001b[39m*\u001b[39m \u001b[39m2\u001b[39m \u001b[39m*\u001b[39m m\u001b[39m.\u001b[39mpi\n\u001b[0;32m      2\u001b[0m beta2_values \u001b[39m=\u001b[39m \u001b[39m-\u001b[39m dispersion_values \u001b[39m/\u001b[39m \u001b[39m2\u001b[39m \u001b[39m/\u001b[39m m\u001b[39m.\u001b[39mpi \u001b[39m/\u001b[39m c \u001b[39m*\u001b[39m wavelength_values\u001b[39m*\u001b[39m\u001b[39m*\u001b[39m\u001b[39m2\u001b[39m\n\u001b[1;32m----> 4\u001b[0m results, covariance \u001b[39m=\u001b[39m curve_fit(Taylor, omega_axis, beta2_values)\n",
      "File \u001b[1;32mc:\\Users\\tsch\\.conda\\envs\\TomsEnv\\lib\\site-packages\\scipy\\optimize\\minpack.py:789\u001b[0m, in \u001b[0;36mcurve_fit\u001b[1;34m(f, xdata, ydata, p0, sigma, absolute_sigma, check_finite, bounds, method, jac, **kwargs)\u001b[0m\n\u001b[0;32m    787\u001b[0m \u001b[39m# Remove full_output from kwargs, otherwise we're passing it in twice.\u001b[39;00m\n\u001b[0;32m    788\u001b[0m return_full \u001b[39m=\u001b[39m kwargs\u001b[39m.\u001b[39mpop(\u001b[39m'\u001b[39m\u001b[39mfull_output\u001b[39m\u001b[39m'\u001b[39m, \u001b[39mFalse\u001b[39;00m)\n\u001b[1;32m--> 789\u001b[0m res \u001b[39m=\u001b[39m leastsq(func, p0, Dfun\u001b[39m=\u001b[39mjac, full_output\u001b[39m=\u001b[39m\u001b[39m1\u001b[39m, \u001b[39m*\u001b[39m\u001b[39m*\u001b[39mkwargs)\n\u001b[0;32m    790\u001b[0m popt, pcov, infodict, errmsg, ier \u001b[39m=\u001b[39m res\n\u001b[0;32m    791\u001b[0m ysize \u001b[39m=\u001b[39m \u001b[39mlen\u001b[39m(infodict[\u001b[39m'\u001b[39m\u001b[39mfvec\u001b[39m\u001b[39m'\u001b[39m])\n",
      "File \u001b[1;32mc:\\Users\\tsch\\.conda\\envs\\TomsEnv\\lib\\site-packages\\scipy\\optimize\\minpack.py:410\u001b[0m, in \u001b[0;36mleastsq\u001b[1;34m(func, x0, args, Dfun, full_output, col_deriv, ftol, xtol, gtol, maxfev, epsfcn, factor, diag)\u001b[0m\n\u001b[0;32m    408\u001b[0m \u001b[39mif\u001b[39;00m \u001b[39mnot\u001b[39;00m \u001b[39misinstance\u001b[39m(args, \u001b[39mtuple\u001b[39m):\n\u001b[0;32m    409\u001b[0m     args \u001b[39m=\u001b[39m (args,)\n\u001b[1;32m--> 410\u001b[0m shape, dtype \u001b[39m=\u001b[39m _check_func(\u001b[39m'\u001b[39;49m\u001b[39mleastsq\u001b[39;49m\u001b[39m'\u001b[39;49m, \u001b[39m'\u001b[39;49m\u001b[39mfunc\u001b[39;49m\u001b[39m'\u001b[39;49m, func, x0, args, n)\n\u001b[0;32m    411\u001b[0m m \u001b[39m=\u001b[39m shape[\u001b[39m0\u001b[39m]\n\u001b[0;32m    413\u001b[0m \u001b[39mif\u001b[39;00m n \u001b[39m>\u001b[39m m:\n",
      "File \u001b[1;32mc:\\Users\\tsch\\.conda\\envs\\TomsEnv\\lib\\site-packages\\scipy\\optimize\\minpack.py:24\u001b[0m, in \u001b[0;36m_check_func\u001b[1;34m(checker, argname, thefunc, x0, args, numinputs, output_shape)\u001b[0m\n\u001b[0;32m     22\u001b[0m \u001b[39mdef\u001b[39;00m \u001b[39m_check_func\u001b[39m(checker, argname, thefunc, x0, args, numinputs,\n\u001b[0;32m     23\u001b[0m                 output_shape\u001b[39m=\u001b[39m\u001b[39mNone\u001b[39;00m):\n\u001b[1;32m---> 24\u001b[0m     res \u001b[39m=\u001b[39m atleast_1d(thefunc(\u001b[39m*\u001b[39;49m((x0[:numinputs],) \u001b[39m+\u001b[39;49m args)))\n\u001b[0;32m     25\u001b[0m     \u001b[39mif\u001b[39;00m (output_shape \u001b[39mis\u001b[39;00m \u001b[39mnot\u001b[39;00m \u001b[39mNone\u001b[39;00m) \u001b[39mand\u001b[39;00m (shape(res) \u001b[39m!=\u001b[39m output_shape):\n\u001b[0;32m     26\u001b[0m         \u001b[39mif\u001b[39;00m (output_shape[\u001b[39m0\u001b[39m] \u001b[39m!=\u001b[39m \u001b[39m1\u001b[39m):\n",
      "File \u001b[1;32mc:\\Users\\tsch\\.conda\\envs\\TomsEnv\\lib\\site-packages\\scipy\\optimize\\minpack.py:485\u001b[0m, in \u001b[0;36m_wrap_func.<locals>.func_wrapped\u001b[1;34m(params)\u001b[0m\n\u001b[0;32m    484\u001b[0m \u001b[39mdef\u001b[39;00m \u001b[39mfunc_wrapped\u001b[39m(params):\n\u001b[1;32m--> 485\u001b[0m     \u001b[39mreturn\u001b[39;00m func(xdata, \u001b[39m*\u001b[39;49mparams) \u001b[39m-\u001b[39m ydata\n",
      "Cell \u001b[1;32mIn [52], line 10\u001b[0m, in \u001b[0;36mTaylor\u001b[1;34m(omega, omega0, beta2s)\u001b[0m\n\u001b[0;32m      8\u001b[0m y \u001b[39m=\u001b[39m \u001b[39m0.0\u001b[39m\n\u001b[0;32m      9\u001b[0m n \u001b[39m=\u001b[39m \u001b[39m0\u001b[39m\n\u001b[1;32m---> 10\u001b[0m \u001b[39mfor\u001b[39;00m b \u001b[39min\u001b[39;00m beta2s:        \n\u001b[0;32m     11\u001b[0m     y \u001b[39m+\u001b[39m\u001b[39m=\u001b[39m \u001b[39m1.0\u001b[39m\u001b[39m/\u001b[39mm\u001b[39m.\u001b[39mfactorial(n)\u001b[39m*\u001b[39mb\u001b[39m*\u001b[39m(omega\u001b[39m-\u001b[39momega0)\u001b[39m^\u001b[39m(n)\n\u001b[0;32m     12\u001b[0m     n \u001b[39m+\u001b[39m\u001b[39m=\u001b[39m \u001b[39m1\u001b[39m\n",
      "\u001b[1;31mTypeError\u001b[0m: 'numpy.float64' object is not iterable"
     ]
    }
   ],
   "source": [
    "omega_axis = 3e9 / wavelength_values * 2 * m.pi\n",
    "beta2_values = - dispersion_values / 2 / m.pi / c * wavelength_values**2\n",
    "\n",
    "results, covariance = curve_fit(Taylor, omega_axis, beta2_values, p0=[[1,1]])"
   ]
  },
  {
   "cell_type": "markdown",
   "metadata": {},
   "source": []
  }
 ],
 "metadata": {
  "kernelspec": {
   "display_name": "Python 3.10.8 ('TomsEnv')",
   "language": "python",
   "name": "python3"
  },
  "language_info": {
   "codemirror_mode": {
    "name": "ipython",
    "version": 3
   },
   "file_extension": ".py",
   "mimetype": "text/x-python",
   "name": "python",
   "nbconvert_exporter": "python",
   "pygments_lexer": "ipython3",
   "version": "3.10.8"
  },
  "orig_nbformat": 4,
  "vscode": {
   "interpreter": {
    "hash": "0980323d8f335874ca97c7b74ebfebd1f5a77837d68577de68b1b5f0bd5028da"
   }
  }
 },
 "nbformat": 4,
 "nbformat_minor": 2
}
