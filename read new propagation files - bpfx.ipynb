{
 "cells": [
  {
   "cell_type": "markdown",
   "metadata": {},
   "source": [
    "# Example Reading propagation files - bpfx\n",
    "\n",
    "Import the necessary libs, after installing them in your environment. Please also ensure that lxml is installed by\n",
    "\n",
    "conda install lxml"
   ]
  },
  {
   "cell_type": "code",
   "execution_count": 2,
   "metadata": {},
   "outputs": [],
   "source": [
    "import matplotlib\n",
    "import struct\n",
    "import base64\n",
    "import numpy as np\n",
    "import matplotlib.pyplot as plt\n",
    "import pandas as pd"
   ]
  },
  {
   "cell_type": "markdown",
   "metadata": {},
   "source": [
    "Now define the following class that load the fiberdesk propagation file (bpfx) that is actually an xml file, so pandas read_xml is used."
   ]
  },
  {
   "cell_type": "code",
   "execution_count": 3,
   "metadata": {},
   "outputs": [],
   "source": [
    "class fiberdesk_bpfx:\n",
    "    def __init__(self, name):\n",
    "        self.filename = name\n",
    "        self.frames = 0\n",
    "        self.bSecondFieldSaved = 0\n",
    "        self.datapoints = 0\n",
    "        self.time_intervall = 0.0\n",
    "        self.freq_intervall = 0.0\n",
    "        self.frequency_0 = 0.0\n",
    "        self.distance = 0.0\n",
    "\n",
    "        self.df = pd.read_xml(name)\n",
    "\n",
    "        last_index = self.df.index.size-1 # minus header\n",
    "        if \"number_of_frames\" in self.df.columns:\n",
    "            self.frames = int(self.df.at[last_index,\"number_of_frames\"])\n",
    "        #print(self.frames)\n",
    "        entries = last_index / self.frames\n",
    "        if \"datapoints\" in self.df.columns:\n",
    "            self.datapoints = int(self.df.at[last_index,\"datapoints\"])\n",
    "        #print(self.datapoints)\n",
    "\n",
    "        # read axis from first entry (index 0), assume that it does no change along propagation\n",
    "        if \"freq_intervall\" in self.df.columns:\n",
    "            self.freq_intervall = self.df.at[0,\"freq_intervall\"]\n",
    "        if \"time_intervall\" in self.df.columns:\n",
    "            self.time_intervall  = self.df.at[0,\"time_intervall\"]\n",
    "        if \"FrequencyNull\" in self.df.columns:\n",
    "            self.frequency_0  = self.df.at[0,\"FrequencyNull\"]\n",
    "        if \"accumulated_distance\" in self.df.columns:\n",
    "            pos = self.df[\"accumulated_distance\"].dropna().to_numpy()\n",
    "            self.distance = np.max(pos)-np.min(pos)\n",
    "            #print(self.distance)\n",
    "\n",
    "    def __del__(self):\n",
    "        return\n",
    "\n",
    "    def GetSavedFields(self):\n",
    "        fields = np.zeros( (self.frames,self.datapoints),dtype=complex)\n",
    "        if \"binary-complex-values\" in self.df.columns:\n",
    "            for frame in range(self.frames):\n",
    "                str_data = self.df[\"binary-complex-values\"].dropna().values.tolist()\n",
    "                if frame<len(str_data):\n",
    "                    fmt = \"<%dd\" % (self.datapoints*2)\n",
    "                    numbers = np.asarray(struct.unpack(fmt, base64.b64decode(str_data[frame])))\n",
    "                    fields[frame] = numbers[0::2]+1j*numbers[1::2]\n",
    "        return fields"
   ]
  },
  {
   "cell_type": "markdown",
   "metadata": {},
   "source": [
    "Now we are able to read all fields from a file. We also calculate the spectrum via fft."
   ]
  },
  {
   "cell_type": "code",
   "execution_count": 4,
   "metadata": {},
   "outputs": [
    {
     "ename": "ImportError",
     "evalue": "lxml not found, please install or use the etree parser.",
     "output_type": "error",
     "traceback": [
      "\u001b[1;31m---------------------------------------------------------------------------\u001b[0m",
      "\u001b[1;31mImportError\u001b[0m                               Traceback (most recent call last)",
      "Cell \u001b[1;32mIn[4], line 3\u001b[0m\n\u001b[0;32m      1\u001b[0m filename \u001b[39m=\u001b[39m \u001b[39m'\u001b[39m\u001b[39mpropagation.bpfx\u001b[39m\u001b[39m'\u001b[39m\n\u001b[1;32m----> 3\u001b[0m fd \u001b[39m=\u001b[39m fiberdesk_bpfx(filename)   \u001b[39m#read file and info\u001b[39;00m\n\u001b[0;32m      4\u001b[0m data_time \u001b[39m=\u001b[39m fd\u001b[39m.\u001b[39mGetSavedFields() \u001b[39m# get propagation field array\u001b[39;00m\n\u001b[0;32m      6\u001b[0m data_spec \u001b[39m=\u001b[39m np\u001b[39m.\u001b[39mcopy(data_time)\n",
      "Cell \u001b[1;32mIn[3], line 12\u001b[0m, in \u001b[0;36mfiberdesk_bpfx.__init__\u001b[1;34m(self, name)\u001b[0m\n\u001b[0;32m      9\u001b[0m \u001b[39mself\u001b[39m\u001b[39m.\u001b[39mfrequency_0 \u001b[39m=\u001b[39m \u001b[39m0.0\u001b[39m\n\u001b[0;32m     10\u001b[0m \u001b[39mself\u001b[39m\u001b[39m.\u001b[39mdistance \u001b[39m=\u001b[39m \u001b[39m0.0\u001b[39m\n\u001b[1;32m---> 12\u001b[0m \u001b[39mself\u001b[39m\u001b[39m.\u001b[39mdf \u001b[39m=\u001b[39m pd\u001b[39m.\u001b[39mread_xml(name)\n\u001b[0;32m     14\u001b[0m last_index \u001b[39m=\u001b[39m \u001b[39mself\u001b[39m\u001b[39m.\u001b[39mdf\u001b[39m.\u001b[39mindex\u001b[39m.\u001b[39msize\u001b[39m-\u001b[39m\u001b[39m1\u001b[39m \u001b[39m# minus header\u001b[39;00m\n\u001b[0;32m     15\u001b[0m \u001b[39mif\u001b[39;00m \u001b[39m\"\u001b[39m\u001b[39mnumber_of_frames\u001b[39m\u001b[39m\"\u001b[39m \u001b[39min\u001b[39;00m \u001b[39mself\u001b[39m\u001b[39m.\u001b[39mdf\u001b[39m.\u001b[39mcolumns:\n",
      "File \u001b[1;32mc:\\Anaconda3\\envs\\TomsEnv\\Lib\\site-packages\\pandas\\util\\_decorators.py:331\u001b[0m, in \u001b[0;36mdeprecate_nonkeyword_arguments.<locals>.decorate.<locals>.wrapper\u001b[1;34m(*args, **kwargs)\u001b[0m\n\u001b[0;32m    325\u001b[0m \u001b[39mif\u001b[39;00m \u001b[39mlen\u001b[39m(args) \u001b[39m>\u001b[39m num_allow_args:\n\u001b[0;32m    326\u001b[0m     warnings\u001b[39m.\u001b[39mwarn(\n\u001b[0;32m    327\u001b[0m         msg\u001b[39m.\u001b[39mformat(arguments\u001b[39m=\u001b[39m_format_argument_list(allow_args)),\n\u001b[0;32m    328\u001b[0m         \u001b[39mFutureWarning\u001b[39;00m,\n\u001b[0;32m    329\u001b[0m         stacklevel\u001b[39m=\u001b[39mfind_stack_level(),\n\u001b[0;32m    330\u001b[0m     )\n\u001b[1;32m--> 331\u001b[0m \u001b[39mreturn\u001b[39;00m func(\u001b[39m*\u001b[39margs, \u001b[39m*\u001b[39m\u001b[39m*\u001b[39mkwargs)\n",
      "File \u001b[1;32mc:\\Anaconda3\\envs\\TomsEnv\\Lib\\site-packages\\pandas\\io\\xml.py:1088\u001b[0m, in \u001b[0;36mread_xml\u001b[1;34m(path_or_buffer, xpath, namespaces, elems_only, attrs_only, names, dtype, converters, parse_dates, encoding, parser, stylesheet, iterparse, compression, storage_options)\u001b[0m\n\u001b[0;32m    838\u001b[0m \u001b[39m@deprecate_nonkeyword_arguments\u001b[39m(version\u001b[39m=\u001b[39m\u001b[39mNone\u001b[39;00m, allowed_args\u001b[39m=\u001b[39m[\u001b[39m\"\u001b[39m\u001b[39mpath_or_buffer\u001b[39m\u001b[39m\"\u001b[39m])\n\u001b[0;32m    839\u001b[0m \u001b[39m@doc\u001b[39m(\n\u001b[0;32m    840\u001b[0m     storage_options\u001b[39m=\u001b[39m_shared_docs[\u001b[39m\"\u001b[39m\u001b[39mstorage_options\u001b[39m\u001b[39m\"\u001b[39m],\n\u001b[1;32m   (...)\u001b[0m\n\u001b[0;32m    859\u001b[0m     storage_options: StorageOptions \u001b[39m=\u001b[39m \u001b[39mNone\u001b[39;00m,\n\u001b[0;32m    860\u001b[0m ) \u001b[39m-\u001b[39m\u001b[39m>\u001b[39m DataFrame:\n\u001b[0;32m    861\u001b[0m \u001b[39m    \u001b[39m\u001b[39mr\u001b[39m\u001b[39m\"\"\"\u001b[39;00m\n\u001b[0;32m    862\u001b[0m \u001b[39m    Read XML document into a ``DataFrame`` object.\u001b[39;00m\n\u001b[0;32m    863\u001b[0m \n\u001b[1;32m   (...)\u001b[0m\n\u001b[0;32m   1085\u001b[0m \u001b[39m    2  triangle      180    3.0\u001b[39;00m\n\u001b[0;32m   1086\u001b[0m \u001b[39m    \"\"\"\u001b[39;00m\n\u001b[1;32m-> 1088\u001b[0m     \u001b[39mreturn\u001b[39;00m _parse(\n\u001b[0;32m   1089\u001b[0m         path_or_buffer\u001b[39m=\u001b[39mpath_or_buffer,\n\u001b[0;32m   1090\u001b[0m         xpath\u001b[39m=\u001b[39mxpath,\n\u001b[0;32m   1091\u001b[0m         namespaces\u001b[39m=\u001b[39mnamespaces,\n\u001b[0;32m   1092\u001b[0m         elems_only\u001b[39m=\u001b[39melems_only,\n\u001b[0;32m   1093\u001b[0m         attrs_only\u001b[39m=\u001b[39mattrs_only,\n\u001b[0;32m   1094\u001b[0m         names\u001b[39m=\u001b[39mnames,\n\u001b[0;32m   1095\u001b[0m         dtype\u001b[39m=\u001b[39mdtype,\n\u001b[0;32m   1096\u001b[0m         converters\u001b[39m=\u001b[39mconverters,\n\u001b[0;32m   1097\u001b[0m         parse_dates\u001b[39m=\u001b[39mparse_dates,\n\u001b[0;32m   1098\u001b[0m         encoding\u001b[39m=\u001b[39mencoding,\n\u001b[0;32m   1099\u001b[0m         parser\u001b[39m=\u001b[39mparser,\n\u001b[0;32m   1100\u001b[0m         stylesheet\u001b[39m=\u001b[39mstylesheet,\n\u001b[0;32m   1101\u001b[0m         iterparse\u001b[39m=\u001b[39miterparse,\n\u001b[0;32m   1102\u001b[0m         compression\u001b[39m=\u001b[39mcompression,\n\u001b[0;32m   1103\u001b[0m         storage_options\u001b[39m=\u001b[39mstorage_options,\n\u001b[0;32m   1104\u001b[0m     )\n",
      "File \u001b[1;32mc:\\Anaconda3\\envs\\TomsEnv\\Lib\\site-packages\\pandas\\io\\xml.py:805\u001b[0m, in \u001b[0;36m_parse\u001b[1;34m(path_or_buffer, xpath, namespaces, elems_only, attrs_only, names, dtype, converters, parse_dates, encoding, parser, stylesheet, iterparse, compression, storage_options, **kwargs)\u001b[0m\n\u001b[0;32m    788\u001b[0m         p \u001b[39m=\u001b[39m _LxmlFrameParser(\n\u001b[0;32m    789\u001b[0m             path_or_buffer,\n\u001b[0;32m    790\u001b[0m             xpath,\n\u001b[1;32m   (...)\u001b[0m\n\u001b[0;32m    802\u001b[0m             storage_options,\n\u001b[0;32m    803\u001b[0m         )\n\u001b[0;32m    804\u001b[0m     \u001b[39melse\u001b[39;00m:\n\u001b[1;32m--> 805\u001b[0m         \u001b[39mraise\u001b[39;00m \u001b[39mImportError\u001b[39;00m(\u001b[39m\"\u001b[39m\u001b[39mlxml not found, please install or use the etree parser.\u001b[39m\u001b[39m\"\u001b[39m)\n\u001b[0;32m    807\u001b[0m \u001b[39melif\u001b[39;00m parser \u001b[39m==\u001b[39m \u001b[39m\"\u001b[39m\u001b[39metree\u001b[39m\u001b[39m\"\u001b[39m:\n\u001b[0;32m    808\u001b[0m     p \u001b[39m=\u001b[39m _EtreeFrameParser(\n\u001b[0;32m    809\u001b[0m         path_or_buffer,\n\u001b[0;32m    810\u001b[0m         xpath,\n\u001b[1;32m   (...)\u001b[0m\n\u001b[0;32m    822\u001b[0m         storage_options,\n\u001b[0;32m    823\u001b[0m     )\n",
      "\u001b[1;31mImportError\u001b[0m: lxml not found, please install or use the etree parser."
     ]
    }
   ],
   "source": [
    "filename = 'propagation.bpfx'\n",
    "\n",
    "fd = fiberdesk_bpfx(filename)   #read file and info\n",
    "data_time = fd.GetSavedFields() # get propagation field array\n",
    "\n",
    "data_spec = np.copy(data_time)\n",
    "for i in range(fd.frames):\n",
    "    data_spec[i] = np.fft.ifftshift(np.fft.fft(data_time[i],norm='ortho')) # normalization to keep energy same as temporal domain"
   ]
  },
  {
   "cell_type": "markdown",
   "metadata": {},
   "source": [
    "We plot the energy of the field and its sepctrum as an example how to work with the fields. It should be the same of course."
   ]
  },
  {
   "cell_type": "code",
   "execution_count": null,
   "metadata": {},
   "outputs": [
    {
     "data": {
      "text/plain": [
       "Text(0, 0.5, 'energy / J')"
      ]
     },
     "execution_count": 6,
     "metadata": {},
     "output_type": "execute_result"
    },
    {
     "data": {
      "image/png": "[encoded data removed]",
      "text/plain": [
       "<Figure size 640x480 with 1 Axes>"
      ]
     },
     "metadata": {},
     "output_type": "display_data"
    }
   ],
   "source": [
    "field = np.real(np.conj(data_time)*data_time)\n",
    "energy = np.sum(field,axis=1)   # energy at each position\n",
    "energy_s = np.sum(np.real(np.conj(data_spec)*data_spec),axis=1) # energy at each position, will be the same as energy\n",
    "\n",
    "fig0 = plt.figure()\n",
    "ax0 = fig0.add_subplot(111)\n",
    "ax0.plot(energy,'o',color='black',alpha=0.5)\n",
    "ax0.plot(energy_s) # will be the same as 'energy'\n",
    "ax0.set_xlabel('frame number')\n",
    "ax0.set_ylabel('energy / J')"
   ]
  },
  {
   "cell_type": "markdown",
   "metadata": {},
   "source": [
    "The following code takes some variables loaded with the field, like temporal intervall and data point to make axis and plot the propagation in a 2D plot."
   ]
  },
  {
   "cell_type": "code",
   "execution_count": null,
   "metadata": {},
   "outputs": [
    {
     "ename": "NameError",
     "evalue": "name 'fd' is not defined",
     "output_type": "error",
     "traceback": [
      "\u001b[1;31m---------------------------------------------------------------------------\u001b[0m",
      "\u001b[1;31mNameError\u001b[0m                                 Traceback (most recent call last)",
      "Cell \u001b[1;32mIn[1], line 1\u001b[0m\n\u001b[1;32m----> 1\u001b[0m N \u001b[39m=\u001b[39m fd\u001b[39m.\u001b[39mdatapoints\n\u001b[0;32m      2\u001b[0m \u001b[39m# temporal extend\u001b[39;00m\n\u001b[0;32m      3\u001b[0m t_min \u001b[39m=\u001b[39m \u001b[39m-\u001b[39mfd\u001b[39m.\u001b[39mtime_intervall \u001b[39m/\u001b[39m \u001b[39m2.0\u001b[39m \u001b[39m*\u001b[39m \u001b[39m1e12\u001b[39m  \u001b[39m# ps\u001b[39;00m\n",
      "\u001b[1;31mNameError\u001b[0m: name 'fd' is not defined"
     ]
    }
   ],
   "source": [
    "N = fd.datapoints\n",
    "# temporal extend\n",
    "t_min = -fd.time_intervall / 2.0 * 1e12  # ps\n",
    "t_max = +fd.time_intervall / 2.0 * 1e12  # ps\n",
    "# spectral extend in Hz\n",
    "s_min = (fd.frequency_0 - fd.freq_intervall / 2.0) * 1e-12\n",
    "s_max = (fd.frequency_0 + fd.freq_intervall / 2.0) * 1e-12\n",
    "\n",
    "def secure_log10_intensity(data):\n",
    "# turn array to log10 of its absolute values(squared) and make sure not to use zeros or below, fill those to min value\n",
    "    res_int = np.real(np.conj(data)*data)\n",
    "    res = np.zeros_like(res_int)\n",
    "    p = np.where(res_int >0.0)\n",
    "    p_avoid = np.where(res_int <=0.0)\n",
    "    res_int_min=np.min(res_int[p])\n",
    "    res[p] = 10.0*np.log10(res_int[p])\n",
    "    res[p_avoid] = 10.0*np.log10(res_int_min)\n",
    "    return res \n",
    "    \n",
    "# calc absolute values from complex array in logarithmic scale\n",
    "spec = secure_log10_intensity(data_spec)\n",
    "\n",
    "spec_min=np.min(spec)\n",
    "spec_max=np.max(spec)\n",
    "print('min/max =',spec_min,'dB',spec_max,'dB')\n",
    "field_min = np.min(field)\n",
    "field_max = np.max(field)\n",
    "\n",
    "# extend of range in logarithmic spectral plot\n",
    "db_range = 30.0 # dB\n",
    "# extend of range in linear time plot\n",
    "lin_range = 1.0#0.2 # use only 20% of linear range, measured from min\n",
    "\n",
    "fig2 = plt.figure(figsize=(16, 9), dpi=100)\n",
    "ax2 = fig2.add_subplot(121)\n",
    "bx2 = fig2.add_subplot(122)\n",
    "print('distance',fd.distance)\n",
    "dist_label = 'distance / m'\n",
    "if (fd.distance == 0.0):\n",
    "    fd.distance = data_time.shape[0]\n",
    "    dist_label = 'roundtrip'\n",
    "# draw the field\n",
    "ax2.imshow(field,aspect='auto',interpolation='none',cmap='jet',origin='lower',vmin=field_min,vmax=field_min+(field_max-field_min)*lin_range,extent=[t_min,t_max,0,fd.distance])\n",
    "\n",
    "ax2.set_xlabel('time / ps')\n",
    "ax2.set_ylabel(dist_label)\n",
    "\n",
    "# draw the spectrum\n",
    "bx2.imshow(spec,aspect='auto',interpolation='bicubic',cmap='jet',vmin=spec_max-db_range,vmax=spec_max,origin='lower',extent=[s_max,s_min,0,fd.distance])\n",
    "\n",
    "bx2.set_xlabel('frequency / THz')\n",
    "bx2.set_ylabel(dist_label)\n",
    "\n",
    "plt.show()\n"
   ]
  },
  {
   "cell_type": "code",
   "execution_count": null,
   "metadata": {},
   "outputs": [],
   "source": []
  }
 ],
 "metadata": {
  "kernelspec": {
   "display_name": "Python 3.10.8 ('TomsEnv')",
   "language": "python",
   "name": "python3"
  },
  "language_info": {
   "codemirror_mode": {
    "name": "ipython",
    "version": 3
   },
   "file_extension": ".py",
   "mimetype": "text/x-python",
   "name": "python",
   "nbconvert_exporter": "python",
   "pygments_lexer": "ipython3",
   "version": "3.11.3"
  },
  "orig_nbformat": 4,
  "vscode": {
   "interpreter": {
    "hash": "0980323d8f335874ca97c7b74ebfebd1f5a77837d68577de68b1b5f0bd5028da"
   }
  }
 },
 "nbformat": 4,
 "nbformat_minor": 2
}
